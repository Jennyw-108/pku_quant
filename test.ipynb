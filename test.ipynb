{
 "cells": [
  {
   "cell_type": "code",
   "execution_count": 5,
   "metadata": {},
   "outputs": [],
   "source": [
    "# 1. 导入系统库函数和其它库\n",
    "\n",
    "import os\n",
    "os.chdir('mysystem')\n",
    "\n",
    "from Basic_Strategy import *\n",
    "from EMA_Strategy import *\n",
    "from SVM import *\n",
    "import datetime\n",
    "import pandas as pd\n",
    "import numpy as np\n",
    "import matplotlib.pyplot as plt"
   ]
  },
  {
   "cell_type": "code",
   "execution_count": null,
   "metadata": {},
   "outputs": [],
   "source": [
    "# 2. 导入数据库，把feather形式转换成csv可读形式文件\n",
    "\n",
    "os.chdir()\n",
    "!pip install feather-format\n",
    "import feather\n",
    "\n",
    "read_feather = feather.read_dataframe(\"stk_daily.feather\")\n",
    "transform_daily = read_feather.to_csv(\"stk_daily.csv\")\n",
    "daily_data = pd.read_csv('stk_daily.csv')"
   ]
  },
  {
   "cell_type": "code",
   "execution_count": null,
   "metadata": {},
   "outputs": [],
   "source": [
    "# 3. 处理原始表格并计算各项指标\n",
    "daily_data['date'] = pd.to_datetime(daily_data['date'])\n",
    "daily_data.set_index('date', inplace=True)\n",
    "daily_data['returns'] = daily_data['close'].pct_change() * daily_data['cumadj']\n",
    "daily_data"
   ]
  },
  {
   "cell_type": "code",
   "execution_count": null,
   "metadata": {},
   "outputs": [],
   "source": [
    "# 4. 执行不同交易策略并生成信号\n",
    "\n",
    "# 这是最基本策略生成信号\n",
    "basic_strategy_data = daily_data.copy()\n",
    "basic_signal_generator = Basic_intraday_reversal_strategy(0.005, 0.01)\n",
    "signals = basic_signal_generator.generate_signals(basic_strategy_data)\n",
    "basic_strategy_data['signal'] = signals\n",
    "basic_strategy_data"
   ]
  },
  {
   "cell_type": "code",
   "execution_count": null,
   "metadata": {},
   "outputs": [],
   "source": [
    "# 这是通过对5日和10日EMA的策略生成信号\n",
    "\n",
    "EMA_strategy_data = daily_data.copy()\n",
    "EMA_signal_generator = EMA_IntradayReversalStrategy(EMA_strategy_data)\n",
    "E_signals = EMA_signal_generator.generate_signals()\n",
    "EMA_strategy_data['signal'] = E_signals\n",
    "EMA_strategy_data"
   ]
  },
  {
   "cell_type": "code",
   "execution_count": null,
   "metadata": {},
   "outputs": [],
   "source": [
    "# 5. 计算策略表现指标\n",
    "\n",
    "# 这是最基本策略所达成的指标\n",
    "basic_strategy_data = basic_signal_generator.calculate_performance_metrics(basic_strategy_data, signals)\n",
    "basic_strategy_data"
   ]
  },
  {
   "cell_type": "code",
   "execution_count": null,
   "metadata": {},
   "outputs": [],
   "source": [
    "# 这是用EMA为基础的策略所达成指标\n",
    "\n",
    "EMA_strategy_data = EMA_signal_generator.calculate_performance_metrics()\n",
    "EMA_strategy_data"
   ]
  },
  {
   "cell_type": "code",
   "execution_count": null,
   "metadata": {},
   "outputs": [],
   "source": [
    "# 6. 可视化基础策略运行结果\n",
    "\n",
    "# 基础策略的图（策略过于简便，且图仍需完善）\n",
    "basic_strategy_plot = basic_signal_generator.basic_plot(basic_strategy_data)"
   ]
  },
  {
   "cell_type": "code",
   "execution_count": null,
   "metadata": {},
   "outputs": [],
   "source": [
    "# 以EMA作为策略基准的可视化图（策略仍需优化，且图仍需完善）\n",
    "EMA_signal_generator.plot_signals_and_performance()"
   ]
  },
  {
   "cell_type": "code",
   "execution_count": null,
   "metadata": {},
   "outputs": [],
   "source": []
  }
 ],
 "metadata": {
  "kernelspec": {
   "display_name": "Python 3 (ipykernel)",
   "language": "python",
   "name": "python3"
  },
  "language_info": {
   "codemirror_mode": {
    "name": "ipython",
    "version": 3
   },
   "file_extension": ".py",
   "mimetype": "text/x-python",
   "name": "python",
   "nbconvert_exporter": "python",
   "pygments_lexer": "ipython3",
   "version": "3.10.13"
  },
  "vscode": {
   "interpreter": {
    "hash": "31f2aee4e71d21fbe5cf8b01ff0e069b9275f58929596ceb00d14d90e3e16cd6"
   }
  }
 },
 "nbformat": 4,
 "nbformat_minor": 2
}
